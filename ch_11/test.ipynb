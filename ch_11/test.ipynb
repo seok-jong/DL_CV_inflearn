{
 "cells": [
  {
   "cell_type": "code",
   "execution_count": 1,
   "metadata": {},
   "outputs": [],
   "source": [
    "import math as m"
   ]
  },
  {
   "cell_type": "code",
   "execution_count": null,
   "metadata": {},
   "outputs": [],
   "source": []
  },
  {
   "cell_type": "code",
   "execution_count": 2,
   "metadata": {},
   "outputs": [],
   "source": [
    "# cross entropy \n",
    "\n",
    "def ce(d1,c1,d2,c2):\n",
    "    fin = 0\n",
    "    \n",
    "    for d_1,c_1,d_2,c_2 in zip(d1,c1,d2,c2):\n",
    "        tmp1 = d_2*m.log(d_1)\n",
    "        tmp2 = c_2*m.log(c_1)\n",
    "        fin +=tmp1\n",
    "        fin +=tmp2\n",
    "\n",
    "    return -fin \n",
    "\n"
   ]
  },
  {
   "cell_type": "code",
   "execution_count": 3,
   "metadata": {},
   "outputs": [],
   "source": [
    "d1 = [0.9,0.1,0.4]\n",
    "d2 = [1,0,1]\n",
    "c1 = [0.1,0.9,0.6]\n",
    "c2 = [0,1,0]"
   ]
  },
  {
   "cell_type": "code",
   "execution_count": 5,
   "metadata": {},
   "outputs": [
    {
     "data": {
      "text/plain": [
       "0.37567058772993583"
      ]
     },
     "execution_count": 5,
     "metadata": {},
     "output_type": "execute_result"
    }
   ],
   "source": [
    "ce(d1,c1,d2,c2)/3"
   ]
  },
  {
   "cell_type": "code",
   "execution_count": null,
   "metadata": {},
   "outputs": [],
   "source": []
  }
 ],
 "metadata": {
  "interpreter": {
   "hash": "11beb2499b3009249a447190917d2ab2f965aca176f0045c14373bac8fc85185"
  },
  "kernelspec": {
   "display_name": "Python 3.9.7 ('base')",
   "language": "python",
   "name": "python3"
  },
  "language_info": {
   "codemirror_mode": {
    "name": "ipython",
    "version": 3
   },
   "file_extension": ".py",
   "mimetype": "text/x-python",
   "name": "python",
   "nbconvert_exporter": "python",
   "pygments_lexer": "ipython3",
   "version": "3.9.7"
  },
  "orig_nbformat": 4
 },
 "nbformat": 4,
 "nbformat_minor": 2
}
