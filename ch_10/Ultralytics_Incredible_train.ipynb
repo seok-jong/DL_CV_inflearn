{
 "cells": [
  {
   "cell_type": "code",
   "execution_count": null,
   "metadata": {},
   "outputs": [],
   "source": [
    "!wget -O /content/incredibles/incredibles.yaml https://raw.githubusercontent.com/chulminkw/DLCV/master/data/util/incredibles.yaml"
   ]
  },
  {
   "cell_type": "markdown",
   "metadata": {},
   "source": [
    "## 학습"
   ]
  },
  {
   "cell_type": "code",
   "execution_count": null,
   "metadata": {},
   "outputs": [],
   "source": [
    "###  batch size는 8로 정할것. 16으로 설정시 성능이 좋아지지 않음. epoch는 150번으로 설정.    \n",
    "!python yolov3/train.py --img 640 --batch 8 --epochs 150 --data incredibles/incredibles.yaml --weights yolov3.pt \\\n",
    "                                     --project=ultra_workdir --name incredibles --exist-ok "
   ]
  },
  {
   "cell_type": "markdown",
   "metadata": {},
   "source": [
    "## 검증"
   ]
  },
  {
   "cell_type": "code",
   "execution_count": null,
   "metadata": {},
   "outputs": [],
   "source": [
    "# image 파일 inference \n",
    "!python yolov3/detect.py --source incredibles/images/train/incredible_028.jpg \\\n",
    "                            --weights Ultra_workdir/incredibles/weights/best.pt --conf 0.3 \\\n",
    "                            --project=data/output --name=run_image --exist-ok --line-thickness 2"
   ]
  },
  {
   "cell_type": "markdown",
   "metadata": {},
   "source": [
    "**<결과>**"
   ]
  },
  {
   "cell_type": "markdown",
   "metadata": {},
   "source": [
    "![incredible_028](https://user-images.githubusercontent.com/77032455/170731403-d225f640-9707-4144-a47d-76507a968a3a.jpg)\n"
   ]
  },
  {
   "cell_type": "markdown",
   "metadata": {},
   "source": [
    "## 비디오 detect 실행 "
   ]
  },
  {
   "cell_type": "code",
   "execution_count": null,
   "metadata": {},
   "outputs": [],
   "source": [
    "!python yolov3/detect.py --source incredibles/incredibles.mp4 \\\n",
    "                            --weights Ultra_workdir/incredibles/weights/best.pt --conf 0.3 \\\n",
    "                            --project=data/output --name=run_image --exist-ok --line-thickness 2"
   ]
  }
 ],
 "metadata": {
  "interpreter": {
   "hash": "7d8c192d3d2437490ac74dfd27e99c11461a2d2436c4d3d662e123fd4e77e763"
  },
  "kernelspec": {
   "display_name": "Python 3.9.12 ('DLCV')",
   "language": "python",
   "name": "python3"
  },
  "language_info": {
   "name": "python",
   "version": "3.9.12"
  },
  "orig_nbformat": 4
 },
 "nbformat": 4,
 "nbformat_minor": 2
}
